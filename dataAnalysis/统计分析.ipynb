{
 "cells": [
  {
   "cell_type": "code",
   "execution_count": 4,
   "metadata": {},
   "outputs": [],
   "source": [
    "import numpy as np\n",
    "import pandas as pd\n",
    "import matplotlib.pyplot as plt\n",
    "%matplotlib inline\n",
    "plt.rcParams['font.sans-serif'] = ['SimHei']\n",
    "plt.rcParams['axes.unicode_minus'] = False"
   ]
  },
  {
   "cell_type": "code",
   "execution_count": 21,
   "metadata": {},
   "outputs": [
    {
     "name": "stdout",
     "output_type": "stream",
     "text": [
      "   value         f\n",
      "0    106  0.012375\n",
      "1    112  0.015921\n",
      "2    111  0.009326\n",
      "3    109  0.001037\n",
      "4    107  0.015165\n",
      "------\n",
      "109.69\n",
      "110.13665184392362\n"
     ]
    }
   ],
   "source": [
    "data = pd.DataFrame({'value':np.random.randint(100,120,100),\n",
    "                    'f': np.random.rand(100)})\n",
    "data['f'] = data['f'] / data['f'].sum()\n",
    "print(data.head())\n",
    "print('------')\n",
    "\n",
    "\n",
    "\n",
    "mean_w = (data['value']*data['f']).sum()/data['f'].sum()\n",
    "print(mean_w)"
   ]
  },
  {
   "cell_type": "code",
   "execution_count": 39,
   "metadata": {},
   "outputs": [
    {
     "name": "stdout",
     "output_type": "stream",
     "text": [
      "众数为 [114]\n",
      "中位数为110\n"
     ]
    },
    {
     "data": {
      "text/plain": [
       "Text(115.0, 0.015, '中位数:110.00')"
      ]
     },
     "execution_count": 39,
     "metadata": {},
     "output_type": "execute_result"
    },
    {
     "data": {
      "image/png": "[encoded data removed]",
      "text/plain": [
       "<Figure size 432x288 with 1 Axes>"
      ]
     },
     "metadata": {
      "needs_background": "light"
     },
     "output_type": "display_data"
    }
   ],
   "source": [
    "data = pd.DataFrame({'value':np.random.randint(100,120,100),\n",
    "                    'f': np.random.rand(100)})\n",
    "data['f'] = data['f'] / data['f'].sum()\n",
    "\n",
    "data['value'].plot(kind = 'kde', style = '--k', grid = True)\n",
    "mean = data['value'].mean()\n",
    "m = data['value'].mode()\n",
    "print('众数为',m.tolist())\n",
    "# 众数是一组数据中出现次数最多的数，这里可能返回多个值\n",
    "\n",
    "med = data['value'].median()\n",
    "print('中位数为%i' % med)\n",
    "\n",
    "plt.axvline(mean, color = 'r', linestyle = '--', alpha = 0.8)\n",
    "plt.text(mean + 5, 0.005, '简单算数平均值：%.2f' % mean, color = 'r')\n",
    "\n",
    "plt.axvline(mean_w,color = 'b', linestyle = '--', alpha = 0.8)\n",
    "plt.text(mean_w + 5, 0.01, '加权算术平均值: %.2f' % mean_w, color = 'b')\n",
    "\n",
    "plt.axvline(med, color = 'b', linestyle = '--',alpha = 0.8)\n",
    "plt.text(med + 5, 0.015, '中位数:%.2f' %med, color = 'g')"
   ]
  },
  {
   "cell_type": "code",
   "execution_count": 43,
   "metadata": {},
   "outputs": [
    {
     "data": {
      "text/plain": [
       "count     30.000000\n",
       "mean     526.899355\n",
       "std      311.539471\n",
       "min       36.569364\n",
       "25%      299.951221\n",
       "50%      509.676949\n",
       "75%      783.107540\n",
       "max      997.650250\n",
       "Name: A_sale, dtype: float64"
      ]
     },
     "execution_count": 43,
     "metadata": {},
     "output_type": "execute_result"
    }
   ],
   "source": [
    "data = pd.DataFrame({'A_sale':np.random.rand(30)*1000,\n",
    "                    'B_sale':np.random.rand(30)*1000},\n",
    "                   index = pd.period_range('20170601','20170630'))\n",
    "sta = data['A_sale'].describe()\n",
    "sta"
   ]
  }
 ],
 "metadata": {
  "kernelspec": {
   "display_name": "Python 3",
   "language": "python",
   "name": "python3"
  },
  "language_info": {
   "codemirror_mode": {
    "name": "ipython",
    "version": 3
   },
   "file_extension": ".py",
   "mimetype": "text/x-python",
   "name": "python",
   "nbconvert_exporter": "python",
   "pygments_lexer": "ipython3",
   "version": "3.8.3"
  }
 },
 "nbformat": 4,
 "nbformat_minor": 4
}
